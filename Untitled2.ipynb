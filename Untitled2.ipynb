{
  "nbformat": 4,
  "nbformat_minor": 0,
  "metadata": {
    "colab": {
      "provenance": []
    },
    "kernelspec": {
      "name": "python3",
      "display_name": "Python 3"
    },
    "language_info": {
      "name": "python"
    }
  },
  "cells": [
    {
      "cell_type": "code",
      "execution_count": 12,
      "metadata": {
        "colab": {
          "base_uri": "https://localhost:8080/"
        },
        "id": "grpFyRvmQMg9",
        "outputId": "ff01f6dd-77ae-4b4c-b151-1fd3a94e85c6"
      },
      "outputs": [
        {
          "output_type": "stream",
          "name": "stdout",
          "text": [
            "Kasallik belgisini kiritingyelka og'rig'i\n",
            "qupen gel\n"
          ]
        }
      ],
      "source": [
        "def kasallik_tashxisi(belgi):\n",
        "  if belgi==\"istma\":\n",
        "    return \"parasetamol iching\"\n",
        "  elif belgi==\"tish og'rig'i\":\n",
        "    return \"qupen iching\"\n",
        "  elif belgi==\"qorin og'rig'i\":\n",
        "    return \"Levomitsin\"\n",
        "  elif belgi==\"bel og'rig'i\":\n",
        "     return \"bolnol\"\n",
        "  elif belgi==\"oshqozon og'rig'i\":\n",
        "     return \"noshpa\"\n",
        "  elif belgi==\"qo'l og'rig'i\":\n",
        "     return \"bolnol\"\n",
        "  elif belgi==\"yelka og'rig'i\":\n",
        "     return \"qupen gel\"\n",
        "  elif belgi==\"tomoq og'rig'i\":\n",
        "     return \"mukaltin\"\n",
        "  elif belgi==\"oyoq og'rig'i\":\n",
        "     return \"bolnol\"\n",
        "  elif belgi==\" bo'g'im og'rig'i\":\n",
        "     return \"kalsiy\"\n",
        "\n",
        "  else:\n",
        "   return \"Shifokorga murojat qling\"\n",
        "belgi=input(\"Kasallik belgisini kiriting\")\n",
        "natija=kasallik_tashxisi(belgi)\n",
        "print(natija)"
      ]
    },
    {
      "cell_type": "code",
      "source": [
        "def fan_oqituvchi(belgi):\n",
        "  if belgi==\"ingiliz tili\":\n",
        "    return \"Nilufar ustoz\"\n",
        "  elif belgi==\"ona tili\":\n",
        "    return \"Madina ustoz\"\n",
        "  elif belgi==\"matematika\":\n",
        "    return \"Jamolliddin ustoz\"\n",
        "  elif belgi==\"Jismoniy tarbiya\":\n",
        "     return \"Mahmud ustoz\"\n",
        "  elif belgi==\"Falsafa\":\n",
        "     return \"Muhiddin ustoz\"\n",
        "  elif belgi==\"Deferensial tenglamalar\":\n",
        "     return \"Botirova\"\n",
        "  elif belgi==\"Sun'iy intellekt\":\n",
        "     return \"Qadamova Zulayxo\"\n",
        "  elif belgi==\"Elektronika\":\n",
        "     return \"Rayimjonova Odina\"\n",
        "  elif belgi==\"Kompyuter Tarmoqlari\":\n",
        "     return \"Mahmudov\"\n",
        "  elif belgi==\" Web ilovalar\":\n",
        "     return \"Sobirova Maftuna\"\n",
        "\n",
        "  else:\n",
        "   return \"Dekanatga murojat qilin\"\n",
        "belgi=input(\"Fan nomini kiriting\")\n",
        "natija=fan_oqituvchi(belgi)\n",
        "print(natija)"
      ],
      "metadata": {
        "colab": {
          "base_uri": "https://localhost:8080/"
        },
        "id": "ukbQKbZgYG9p",
        "outputId": "fa227ab3-9957-43f3-8e4d-b38a58e19b38"
      },
      "execution_count": 14,
      "outputs": [
        {
          "output_type": "stream",
          "name": "stdout",
          "text": [
            "Fan nomini kiritingKompyuter Tarmoqlari\n",
            "Mahmudov\n"
          ]
        }
      ]
    }
  ]
}